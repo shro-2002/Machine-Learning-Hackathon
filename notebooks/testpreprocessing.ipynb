{
 "cells": [
  {
   "cell_type": "code",
   "execution_count": 2,
   "metadata": {},
   "outputs": [],
   "source": [
    "#import libraries\n",
    "import pandas as pd\n",
    "import numpy as np\n",
    "import matplotlib.pyplot as plt\n",
    "import seaborn as sns\n",
    "from sklearn.preprocessing import LabelEncoder"
   ]
  },
  {
   "cell_type": "code",
   "execution_count": 3,
   "metadata": {},
   "outputs": [],
   "source": [
    "# load data\n",
    "df_test = pd.read_csv('Doceree-HCP-Test.csv')"
   ]
  },
  {
   "cell_type": "code",
   "execution_count": 4,
   "metadata": {},
   "outputs": [
    {
     "data": {
      "text/plain": [
       "PK                    0\n",
       "DEVICETYPE            6\n",
       "PLATFORM_ID          23\n",
       "BIDREQUESTIP         23\n",
       "USERPLATFORMUID      23\n",
       "USERCITY           1617\n",
       "USERZIPCODE        1173\n",
       "USERAGENT            24\n",
       "PLATFORMTYPE         23\n",
       "CHANNELTYPE          23\n",
       "URL                  23\n",
       "KEYWORDS            129\n",
       "dtype: int64"
      ]
     },
     "execution_count": 4,
     "metadata": {},
     "output_type": "execute_result"
    }
   ],
   "source": [
    "df_test.isnull().sum()"
   ]
  },
  {
   "cell_type": "code",
   "execution_count": 5,
   "metadata": {},
   "outputs": [],
   "source": [
    "#impute missing values of numeric columns with mean and categorical columns with mode\n",
    "\n",
    "cat_cols = df_test.select_dtypes(include='object').columns\n",
    "\n",
    "for col in cat_cols:\n",
    "    df_test[col] = df_test[col].fillna(df_test[col].mode()[0])\n",
    "\n",
    "num_cols = df_test.select_dtypes(include=['int64','float64']).columns\n",
    "\n",
    "for col in num_cols:\n",
    "    df_test[col] = df_test[col].fillna(df_test[col].mean())\n"
   ]
  },
  {
   "cell_type": "code",
   "execution_count": 6,
   "metadata": {},
   "outputs": [],
   "source": [
    "df_test.drop(['USERZIPCODE'], axis=1, inplace=True)\n",
    "df_test.drop('CHANNELTYPE', axis=1, inplace=True)"
   ]
  },
  {
   "cell_type": "code",
   "execution_count": 7,
   "metadata": {},
   "outputs": [
    {
     "name": "stderr",
     "output_type": "stream",
     "text": [
      "C:\\Users\\KIIT\\AppData\\Local\\Temp\\ipykernel_17320\\3777666934.py:14: PerformanceWarning: DataFrame is highly fragmented.  This is usually the result of calling `frame.insert` many times, which has poor performance.  Consider joining all columns at once using pd.concat(axis=1) instead.  To get a de-fragmented frame, use `newframe = frame.copy()`\n",
      "  df_test[keyword] = df_test['KEYWORDS'].apply(lambda x: int(keyword in x))\n"
     ]
    }
   ],
   "source": [
    "#feature engineering on keyword column to extract keywords\n",
    "# tokenize the keywords column where words are separated by '|'\n",
    "df_test['KEYWORDS'] = df_test['KEYWORDS'].str.split('|')\n",
    "\n",
    "# Create a set to store all keywords\n",
    "all_keywords = set()\n",
    "\n",
    "# Extract unique keywords and add them to the set\n",
    "for keywords in df_test['KEYWORDS']:\n",
    "    all_keywords.update(keywords)\n",
    "\n",
    "# Create a column for each keyword and assign values\n",
    "for keyword in all_keywords:\n",
    "    df_test[keyword] = df_test['KEYWORDS'].apply(lambda x: int(keyword in x))\n",
    "\n",
    "# Drop the 'KEYWORDS' column\n",
    "df_test.drop(['KEYWORDS'], axis=1, inplace=True)"
   ]
  },
  {
   "cell_type": "code",
   "execution_count": 8,
   "metadata": {},
   "outputs": [
    {
     "data": {
      "text/plain": [
       "PK                                 int32\n",
       "DEVICETYPE                         int32\n",
       "PLATFORM_ID                      float64\n",
       "BIDREQUESTIP                       int32\n",
       "USERPLATFORMUID                    int32\n",
       "                                  ...   \n",
       "Aortic Aneurysm                    int64\n",
       "Anticoagulants                     int64\n",
       "Amyotrophic Lateral Sclerosis      int64\n",
       "chronic                            int64\n",
       "small                              int64\n",
       "Length: 1437, dtype: object"
      ]
     },
     "execution_count": 8,
     "metadata": {},
     "output_type": "execute_result"
    }
   ],
   "source": [
    "#encode categorical columns using label encoding\n",
    "\n",
    "le = LabelEncoder()\n",
    "\n",
    "cat_cols = df_test.select_dtypes(include='object').columns\n",
    "\n",
    "for col in cat_cols:\n",
    "    df_test[col] = le.fit_transform(df_test[col])\n",
    "\n",
    "df_test.dtypes"
   ]
  },
  {
   "cell_type": "code",
   "execution_count": 9,
   "metadata": {},
   "outputs": [],
   "source": [
    "from sklearn.decomposition import PCA\n",
    "from sklearn.preprocessing import StandardScaler"
   ]
  },
  {
   "cell_type": "code",
   "execution_count": 10,
   "metadata": {},
   "outputs": [],
   "source": [
    "\n",
    "# Assuming 'X' is your feature matrix\n",
    "\n",
    "# Standardize the features by removing the mean and scaling to unit variance\n",
    "scaler = StandardScaler()\n",
    "X_scaled = scaler.fit_transform(df_test)\n"
   ]
  },
  {
   "cell_type": "code",
   "execution_count": 11,
   "metadata": {},
   "outputs": [],
   "source": [
    "\n",
    "# Perform PCA\n",
    "pca = PCA(n_components=3)  # Specify the number of components to keep\n",
    "X_pca = pca.fit_transform(X_scaled)\n",
    "\n"
   ]
  },
  {
   "cell_type": "code",
   "execution_count": 12,
   "metadata": {},
   "outputs": [
    {
     "name": "stdout",
     "output_type": "stream",
     "text": [
      "Explained Variance Ratio: [0.04038412 0.02939575 0.02481501]\n",
      "Selected Features: [[-4.70290510e-04 -1.67109820e-02  3.23381635e-02 ... -7.76923537e-03\n",
      "   4.46612795e-02  7.51995396e-02]\n",
      " [ 1.55105391e-04  5.09998736e-04  1.00037290e-02 ... -2.29093632e-03\n",
      "   4.05354560e-02  6.01607022e-02]\n",
      " [ 1.29970659e-03  6.98663323e-05 -8.61344695e-03 ...  1.73691957e-03\n",
      "  -7.70125170e-03 -2.44741531e-02]]\n"
     ]
    }
   ],
   "source": [
    "\n",
    "\n",
    "# Explained variance ratio\n",
    "explained_variance_ratio = pca.explained_variance_ratio_\n",
    "print(\"Explained Variance Ratio:\", explained_variance_ratio)\n",
    "\n",
    "# Get the selected features based on the PCA transformation\n",
    "selected_features = pca.components_\n",
    "print(\"Selected Features:\", selected_features)\n"
   ]
  },
  {
   "cell_type": "code",
   "execution_count": 8,
   "metadata": {},
   "outputs": [],
   "source": [
    "#save the preprocessed test data\n",
    "df = pd.DataFrame(data = X_pca, columns = ['PC1', 'PC2','PC3'])\n",
    "df.to_csv('preprocessed_test.csv', index=False)"
   ]
  },
  {
   "cell_type": "code",
   "execution_count": 9,
   "metadata": {},
   "outputs": [
    {
     "data": {
      "text/plain": [
       "(28553, 1437)"
      ]
     },
     "execution_count": 9,
     "metadata": {},
     "output_type": "execute_result"
    }
   ],
   "source": [
    "df_test.shape"
   ]
  },
  {
   "cell_type": "code",
   "execution_count": null,
   "metadata": {},
   "outputs": [],
   "source": []
  }
 ],
 "metadata": {
  "kernelspec": {
   "display_name": "base",
   "language": "python",
   "name": "python3"
  },
  "language_info": {
   "codemirror_mode": {
    "name": "ipython",
    "version": 3
   },
   "file_extension": ".py",
   "mimetype": "text/x-python",
   "name": "python",
   "nbconvert_exporter": "python",
   "pygments_lexer": "ipython3",
   "version": "3.9.13"
  },
  "orig_nbformat": 4
 },
 "nbformat": 4,
 "nbformat_minor": 2
}
