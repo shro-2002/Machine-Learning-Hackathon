{
 "cells": [
  {
   "cell_type": "code",
   "execution_count": 29,
   "metadata": {},
   "outputs": [],
   "source": [
    "# import libraries\n",
    "import pandas as pd\n",
    "import numpy as np\n",
    "import matplotlib.pyplot as plt\n",
    "import seaborn as sns\n",
    "import pickle\n",
    "from sklearn.preprocessing import StandardScaler\n",
    "from sklearn.model_selection import train_test_split\n",
    "from sklearn.metrics import accuracy_score, confusion_matrix, classification_report\n"
   ]
  },
  {
   "cell_type": "code",
   "execution_count": 30,
   "metadata": {},
   "outputs": [
    {
     "data": {
      "text/html": [
       "<div>\n",
       "<style scoped>\n",
       "    .dataframe tbody tr th:only-of-type {\n",
       "        vertical-align: middle;\n",
       "    }\n",
       "\n",
       "    .dataframe tbody tr th {\n",
       "        vertical-align: top;\n",
       "    }\n",
       "\n",
       "    .dataframe thead th {\n",
       "        text-align: right;\n",
       "    }\n",
       "</style>\n",
       "<table border=\"1\" class=\"dataframe\">\n",
       "  <thead>\n",
       "    <tr style=\"text-align: right;\">\n",
       "      <th></th>\n",
       "      <th>PK</th>\n",
       "      <th>DEVICETYPE</th>\n",
       "      <th>PLATFORM_ID</th>\n",
       "      <th>BIDREQUESTIP</th>\n",
       "      <th>USERPLATFORMUID</th>\n",
       "      <th>USERCITY</th>\n",
       "      <th>USERZIPCODE</th>\n",
       "      <th>USERAGENT</th>\n",
       "      <th>PLATFORMTYPE</th>\n",
       "      <th>CHANNELTYPE</th>\n",
       "      <th>URL</th>\n",
       "      <th>KEYWORDS</th>\n",
       "      <th>TAXONOMY</th>\n",
       "      <th>IS_HCP</th>\n",
       "    </tr>\n",
       "  </thead>\n",
       "  <tbody>\n",
       "    <tr>\n",
       "      <th>0</th>\n",
       "      <td>1001</td>\n",
       "      <td>Desktop</td>\n",
       "      <td>2</td>\n",
       "      <td>170.173.0.22</td>\n",
       "      <td>6974dcaa-f932-480e-9fb5-c52e20e1393a</td>\n",
       "      <td>Portland</td>\n",
       "      <td>97206.0</td>\n",
       "      <td>Mozilla/5.0 (Windows NT 10.0; Win64; x64) Appl...</td>\n",
       "      <td>Online Medical Journal</td>\n",
       "      <td>Website</td>\n",
       "      <td>https://www.cancertherapyadvisor.com/home/canc...</td>\n",
       "      <td>General|Endocrine|False|Medicine|Surgery|Urolo...</td>\n",
       "      <td>NaN</td>\n",
       "      <td>0.0</td>\n",
       "    </tr>\n",
       "    <tr>\n",
       "      <th>1</th>\n",
       "      <td>1002</td>\n",
       "      <td>Desktop</td>\n",
       "      <td>2</td>\n",
       "      <td>65.216.253.25</td>\n",
       "      <td>c12f3f8f-8fcf-484a-90e1-1ac04db8cdcf</td>\n",
       "      <td>Arlington</td>\n",
       "      <td>22202.0</td>\n",
       "      <td>Mozilla/5.0 (Macintosh; Intel Mac OS X 10_15_7...</td>\n",
       "      <td>Online Medical Journal</td>\n",
       "      <td>Website</td>\n",
       "      <td>https://www.cancertherapyadvisor.com/home/deci...</td>\n",
       "      <td>Bone Marrow|Radiography|Chronic|Oncology|Psych...</td>\n",
       "      <td>NaN</td>\n",
       "      <td>0.0</td>\n",
       "    </tr>\n",
       "    <tr>\n",
       "      <th>2</th>\n",
       "      <td>1003</td>\n",
       "      <td>Desktop</td>\n",
       "      <td>2</td>\n",
       "      <td>66.232.79.22</td>\n",
       "      <td>a698de4b-e200-46dd-b5fb-40402175ae18</td>\n",
       "      <td>New Meadows</td>\n",
       "      <td>83654.0</td>\n",
       "      <td>Mozilla/5.0 (Macintosh; Intel Mac OS X 10_15_7...</td>\n",
       "      <td>Online Medical Journal</td>\n",
       "      <td>Website</td>\n",
       "      <td>https://www.cancertherapyadvisor.com/home/canc...</td>\n",
       "      <td>General|Endocrine|False|Medicine|Surgery|Urolo...</td>\n",
       "      <td>NaN</td>\n",
       "      <td>0.0</td>\n",
       "    </tr>\n",
       "    <tr>\n",
       "      <th>3</th>\n",
       "      <td>1004</td>\n",
       "      <td>Desktop</td>\n",
       "      <td>3</td>\n",
       "      <td>137.54.125.246</td>\n",
       "      <td>45967533-75c8-4fbd-a00c-e6ff20447aaa</td>\n",
       "      <td>NaN</td>\n",
       "      <td>229114624.0</td>\n",
       "      <td>Mozilla/5.0 (Windows NT 10.0; Win64; x64) Appl...</td>\n",
       "      <td>Online Medical Journal</td>\n",
       "      <td>Website</td>\n",
       "      <td>https://globalrph.com/medcalcs/warfarin-mainte...</td>\n",
       "      <td>Dental|Total|Clinical|Pharmacology|Physicians|...</td>\n",
       "      <td>2084P0800X</td>\n",
       "      <td>1.0</td>\n",
       "    </tr>\n",
       "    <tr>\n",
       "      <th>4</th>\n",
       "      <td>1005</td>\n",
       "      <td>Mobile</td>\n",
       "      <td>7</td>\n",
       "      <td>174.202.231.99</td>\n",
       "      <td>a17e25be-532d-4cf5-b916-9308c8c3961f</td>\n",
       "      <td>Houston</td>\n",
       "      <td>77008.0</td>\n",
       "      <td>Mozilla/5.0 (iPhone; CPU iPhone OS 16_1_1 like...</td>\n",
       "      <td>Online Medical Journal</td>\n",
       "      <td>Website</td>\n",
       "      <td>https://www.cureus.com/articles/58184-a-review...</td>\n",
       "      <td>Critical Care|Emergency Medicine|General Pract...</td>\n",
       "      <td>NaN</td>\n",
       "      <td>0.0</td>\n",
       "    </tr>\n",
       "  </tbody>\n",
       "</table>\n",
       "</div>"
      ],
      "text/plain": [
       "     PK DEVICETYPE  PLATFORM_ID    BIDREQUESTIP  \\\n",
       "0  1001    Desktop            2    170.173.0.22   \n",
       "1  1002    Desktop            2   65.216.253.25   \n",
       "2  1003    Desktop            2    66.232.79.22   \n",
       "3  1004    Desktop            3  137.54.125.246   \n",
       "4  1005     Mobile            7  174.202.231.99   \n",
       "\n",
       "                        USERPLATFORMUID     USERCITY  USERZIPCODE  \\\n",
       "0  6974dcaa-f932-480e-9fb5-c52e20e1393a     Portland      97206.0   \n",
       "1  c12f3f8f-8fcf-484a-90e1-1ac04db8cdcf    Arlington      22202.0   \n",
       "2  a698de4b-e200-46dd-b5fb-40402175ae18  New Meadows      83654.0   \n",
       "3  45967533-75c8-4fbd-a00c-e6ff20447aaa          NaN  229114624.0   \n",
       "4  a17e25be-532d-4cf5-b916-9308c8c3961f      Houston      77008.0   \n",
       "\n",
       "                                           USERAGENT            PLATFORMTYPE  \\\n",
       "0  Mozilla/5.0 (Windows NT 10.0; Win64; x64) Appl...  Online Medical Journal   \n",
       "1  Mozilla/5.0 (Macintosh; Intel Mac OS X 10_15_7...  Online Medical Journal   \n",
       "2  Mozilla/5.0 (Macintosh; Intel Mac OS X 10_15_7...  Online Medical Journal   \n",
       "3  Mozilla/5.0 (Windows NT 10.0; Win64; x64) Appl...  Online Medical Journal   \n",
       "4  Mozilla/5.0 (iPhone; CPU iPhone OS 16_1_1 like...  Online Medical Journal   \n",
       "\n",
       "  CHANNELTYPE                                                URL  \\\n",
       "0     Website  https://www.cancertherapyadvisor.com/home/canc...   \n",
       "1     Website  https://www.cancertherapyadvisor.com/home/deci...   \n",
       "2     Website  https://www.cancertherapyadvisor.com/home/canc...   \n",
       "3     Website  https://globalrph.com/medcalcs/warfarin-mainte...   \n",
       "4     Website  https://www.cureus.com/articles/58184-a-review...   \n",
       "\n",
       "                                            KEYWORDS    TAXONOMY  IS_HCP  \n",
       "0  General|Endocrine|False|Medicine|Surgery|Urolo...         NaN     0.0  \n",
       "1  Bone Marrow|Radiography|Chronic|Oncology|Psych...         NaN     0.0  \n",
       "2  General|Endocrine|False|Medicine|Surgery|Urolo...         NaN     0.0  \n",
       "3  Dental|Total|Clinical|Pharmacology|Physicians|...  2084P0800X     1.0  \n",
       "4  Critical Care|Emergency Medicine|General Pract...         NaN     0.0  "
      ]
     },
     "execution_count": 30,
     "metadata": {},
     "output_type": "execute_result"
    }
   ],
   "source": [
    "# load dataset\n",
    "df = pd.read_csv('doceree-HCP_Train.csv', encoding='utf-8')\n",
    "df.head()"
   ]
  },
  {
   "cell_type": "code",
   "execution_count": 31,
   "metadata": {},
   "outputs": [
    {
     "data": {
      "text/plain": [
       "PK                     0\n",
       "DEVICETYPE             0\n",
       "PLATFORM_ID            0\n",
       "BIDREQUESTIP           0\n",
       "USERPLATFORMUID        4\n",
       "USERCITY            6359\n",
       "USERZIPCODE         4592\n",
       "USERAGENT              2\n",
       "PLATFORMTYPE           0\n",
       "CHANNELTYPE            0\n",
       "URL                    0\n",
       "KEYWORDS               0\n",
       "TAXONOMY           81624\n",
       "IS_HCP                 1\n",
       "dtype: int64"
      ]
     },
     "execution_count": 31,
     "metadata": {},
     "output_type": "execute_result"
    }
   ],
   "source": [
    "# check for null values\n",
    "df.isnull().sum()\n"
   ]
  },
  {
   "cell_type": "code",
   "execution_count": 32,
   "metadata": {},
   "outputs": [
    {
     "data": {
      "text/plain": [
       "array([nan, '2084P0800X', '2084P0804X', '2084N0400X', '2084V0102X',\n",
       "       '207RC0000X', '2084S0012X', '207R00000X', '208000000X',\n",
       "       '2084N0402X', '207RE0101X', '207Q00000X', '363LP0808X',\n",
       "       '207W00000X', '2084N0600X', '207RI0200X', '2080P0207X',\n",
       "       '207T00000X', '2084B0040X', '363AM0700X', '207RG0100X',\n",
       "       '207RH0003X', '363LF0000X', '207N00000X', '207RG0300X',\n",
       "       '202C00000X', '208M00000X', '207P00000X', '2083X0100X',\n",
       "       '390200000X', '207V00000X', '207RC0200X', '363LP0200X',\n",
       "       '363A00000X', '183500000X', '207X00000X', '207RP1001X',\n",
       "       '207RA0401X', '208600000X', '207RH0002X', '363L00000X',\n",
       "       '207RX0202X', '2084P2900X', '2084P0805X', '174400000X',\n",
       "       '207RI0011X', '208100000X', '208D00000X', '204D00000X',\n",
       "       '207QG0300X', '363LA2200X', '2084F0202X', '2084D0003X',\n",
       "       '213ES0131X', '207RA0201X', '2080A0000X', '122300000X',\n",
       "       '207RC0001X', '207RR0500X', '207RH0000X', '207ZP0105X',\n",
       "       '2080P0206X', '207VE0102X', '2085R0001X', '2083P0901X',\n",
       "       '364SP0809X', '207QA0401X', '103T00000X', '207L00000X',\n",
       "       '208G00000X', '2083A0100X', '207UN0901X', '2084A2900X',\n",
       "       '2080P0008X', '163W00000X', '207VG0400X', '207XS0106X',\n",
       "       '2080P0203X', '2084P0802X', '2084A0401X', '208800000X',\n",
       "       '207YX0901X', '207QH0002X', '363AS0400X', '207RS0012X',\n",
       "       '363LA2100X', '2081P2900X', '363LN0000X', '2085R0202X',\n",
       "       '2084P0015X', '207PE0005X', '204R00000X', '207QA0505X',\n",
       "       '207K00000X', '163WP0808X', '2084N0008X', '207Y00000X',\n",
       "       '207YX0905X', '207RN0300X', '2085N0700X', '2085P0229X',\n",
       "       '376K00000X', '204C00000X', '208VP0014X', '207LP2900X',\n",
       "       '207QS0010X', '364SP0807X', '204F00000X', '163WP0809X',\n",
       "       '207KI0005X', '207YX0007X', '207KA0200X', '207VM0101X',\n",
       "       '2080P0210X', '207YS0123X', '2080N0001X', '207ZB0001X',\n",
       "       '207NS0135X', '208VP0000X', '363LG0600X', '2080P0216X',\n",
       "       '208200000X', '2080P0202X', '2086S0102X', '2086S0122X',\n",
       "       '207RA0000X', '207VX0000X', '207RI0008X', '207SG0201X',\n",
       "       '207WX0109X', '207RA0001X', '207ZN0500X', '1835N1003X',\n",
       "       '173000000X', '364SP0808X', '163WP0200X', '2080P0208X',\n",
       "       '2086S0129X', '163WD0400X', '363LP2300X', '207ND0900X',\n",
       "       '2080P0214X', '207SG0203X', '207PE0004X', '207ZP0213X',\n",
       "       '163WP0807X', '207ZD0900X', '163WC0400X', '367A00000X',\n",
       "       '2080P0006X', '1041C0700X', '106H00000X', '207WX0107X',\n",
       "       '2085R0203X', '207ZP0102X', '2086S0120X', '367500000X',\n",
       "       '152W00000X', '207VF0040X', '364SF0001X', '2081N0008X',\n",
       "       '207ZP0101X', '2086X0206X', '207WX0200X', '111N00000X',\n",
       "       '2080S0012X', '363LX0001X', '207PT0002X', '207RS0010X',\n",
       "       '207U00000X', '103TC0700X', '208C00000X', '2080P0205X',\n",
       "       '2081S0010X', '2084P0005X', '207RB0002X', '207ZF0201X',\n",
       "       '282NC2000X', '207QS1201X', '207WX0120X', '2085R0204X',\n",
       "       '207XX0005X', '246QM0706X', '207ZH0000X', '207PS0010X',\n",
       "       '207VX0201X', '364S00000X', '207YP0228X', '363LC1500X',\n",
       "       '207ND0101X', '2081H0002X', '146D00000X', '2084P0301X',\n",
       "       '207ZC0500X', '2084S0010X', '207WX0110X', '1223P0221X',\n",
       "       '2081P0004X', '1835P1200X', '367H00000X', '2255A2300X',\n",
       "       '207PP0204X', '363LW0102X', '1835P2201X', '2085N0904X',\n",
       "       '225400000X', '163WG0000X', '207XX0801X'], dtype=object)"
      ]
     },
     "execution_count": 32,
     "metadata": {},
     "output_type": "execute_result"
    }
   ],
   "source": [
    "#target column: TAXONOMY , IS_HCP\n",
    "\n",
    "# check for unique values in target column\n",
    "df['TAXONOMY'].unique()"
   ]
  },
  {
   "cell_type": "code",
   "execution_count": 33,
   "metadata": {},
   "outputs": [
    {
     "data": {
      "text/plain": [
       "2084P0800X    7930\n",
       "2084N0400X    6621\n",
       "207Q00000X    3997\n",
       "207R00000X    3190\n",
       "208000000X     837\n",
       "              ... \n",
       "163WC0400X       1\n",
       "246QM0706X       1\n",
       "1835N1003X       1\n",
       "207RI0008X       1\n",
       "207XX0801X       1\n",
       "Name: TAXONOMY, Length: 207, dtype: int64"
      ]
     },
     "execution_count": 33,
     "metadata": {},
     "output_type": "execute_result"
    }
   ],
   "source": [
    "#value counts of target column\n",
    "df['TAXONOMY'].value_counts()"
   ]
  },
  {
   "cell_type": "code",
   "execution_count": 34,
   "metadata": {},
   "outputs": [
    {
     "data": {
      "text/plain": [
       "0.0    79756\n",
       "1.0    34180\n",
       "Name: IS_HCP, dtype: int64"
      ]
     },
     "execution_count": 34,
     "metadata": {},
     "output_type": "execute_result"
    }
   ],
   "source": [
    "#value counts of target column\n",
    "df['IS_HCP'].value_counts()"
   ]
  },
  {
   "cell_type": "code",
   "execution_count": 36,
   "metadata": {},
   "outputs": [
    {
     "data": {
      "text/plain": [
       "0.0    79756\n",
       "1.0    34180\n",
       "Name: IS_HCP, dtype: int64"
      ]
     },
     "execution_count": 36,
     "metadata": {},
     "output_type": "execute_result"
    }
   ],
   "source": [
    "df['IS_HCP'].value_counts()"
   ]
  },
  {
   "cell_type": "code",
   "execution_count": 37,
   "metadata": {},
   "outputs": [
    {
     "data": {
      "text/html": [
       "<div>\n",
       "<style scoped>\n",
       "    .dataframe tbody tr th:only-of-type {\n",
       "        vertical-align: middle;\n",
       "    }\n",
       "\n",
       "    .dataframe tbody tr th {\n",
       "        vertical-align: top;\n",
       "    }\n",
       "\n",
       "    .dataframe thead th {\n",
       "        text-align: right;\n",
       "    }\n",
       "</style>\n",
       "<table border=\"1\" class=\"dataframe\">\n",
       "  <thead>\n",
       "    <tr style=\"text-align: right;\">\n",
       "      <th></th>\n",
       "      <th>PK</th>\n",
       "      <th>PLATFORM_ID</th>\n",
       "      <th>USERZIPCODE</th>\n",
       "      <th>IS_HCP</th>\n",
       "    </tr>\n",
       "  </thead>\n",
       "  <tbody>\n",
       "    <tr>\n",
       "      <th>count</th>\n",
       "      <td>113937.000000</td>\n",
       "      <td>113937.000000</td>\n",
       "      <td>1.093450e+05</td>\n",
       "      <td>113936.000000</td>\n",
       "    </tr>\n",
       "    <tr>\n",
       "      <th>mean</th>\n",
       "      <td>57969.000000</td>\n",
       "      <td>3.574993</td>\n",
       "      <td>1.830240e+07</td>\n",
       "      <td>0.299993</td>\n",
       "    </tr>\n",
       "    <tr>\n",
       "      <th>std</th>\n",
       "      <td>32890.923148</td>\n",
       "      <td>2.569019</td>\n",
       "      <td>1.066908e+08</td>\n",
       "      <td>0.458257</td>\n",
       "    </tr>\n",
       "    <tr>\n",
       "      <th>min</th>\n",
       "      <td>1001.000000</td>\n",
       "      <td>1.000000</td>\n",
       "      <td>6.020000e+02</td>\n",
       "      <td>0.000000</td>\n",
       "    </tr>\n",
       "    <tr>\n",
       "      <th>25%</th>\n",
       "      <td>29485.000000</td>\n",
       "      <td>2.000000</td>\n",
       "      <td>1.935500e+04</td>\n",
       "      <td>0.000000</td>\n",
       "    </tr>\n",
       "    <tr>\n",
       "      <th>50%</th>\n",
       "      <td>57969.000000</td>\n",
       "      <td>2.000000</td>\n",
       "      <td>4.321000e+04</td>\n",
       "      <td>0.000000</td>\n",
       "    </tr>\n",
       "    <tr>\n",
       "      <th>75%</th>\n",
       "      <td>86453.000000</td>\n",
       "      <td>6.000000</td>\n",
       "      <td>7.709000e+04</td>\n",
       "      <td>1.000000</td>\n",
       "    </tr>\n",
       "    <tr>\n",
       "      <th>max</th>\n",
       "      <td>114937.000000</td>\n",
       "      <td>16.000000</td>\n",
       "      <td>9.970149e+08</td>\n",
       "      <td>1.000000</td>\n",
       "    </tr>\n",
       "  </tbody>\n",
       "</table>\n",
       "</div>"
      ],
      "text/plain": [
       "                  PK    PLATFORM_ID   USERZIPCODE         IS_HCP\n",
       "count  113937.000000  113937.000000  1.093450e+05  113936.000000\n",
       "mean    57969.000000       3.574993  1.830240e+07       0.299993\n",
       "std     32890.923148       2.569019  1.066908e+08       0.458257\n",
       "min      1001.000000       1.000000  6.020000e+02       0.000000\n",
       "25%     29485.000000       2.000000  1.935500e+04       0.000000\n",
       "50%     57969.000000       2.000000  4.321000e+04       0.000000\n",
       "75%     86453.000000       6.000000  7.709000e+04       1.000000\n",
       "max    114937.000000      16.000000  9.970149e+08       1.000000"
      ]
     },
     "execution_count": 37,
     "metadata": {},
     "output_type": "execute_result"
    }
   ],
   "source": [
    "df.describe()"
   ]
  },
  {
   "cell_type": "code",
   "execution_count": 38,
   "metadata": {},
   "outputs": [
    {
     "name": "stdout",
     "output_type": "stream",
     "text": [
      "<class 'pandas.core.frame.DataFrame'>\n",
      "RangeIndex: 113937 entries, 0 to 113936\n",
      "Data columns (total 14 columns):\n",
      " #   Column           Non-Null Count   Dtype  \n",
      "---  ------           --------------   -----  \n",
      " 0   PK               113937 non-null  int64  \n",
      " 1   DEVICETYPE       113937 non-null  object \n",
      " 2   PLATFORM_ID      113937 non-null  int64  \n",
      " 3   BIDREQUESTIP     113937 non-null  object \n",
      " 4   USERPLATFORMUID  113933 non-null  object \n",
      " 5   USERCITY         107578 non-null  object \n",
      " 6   USERZIPCODE      109345 non-null  float64\n",
      " 7   USERAGENT        113935 non-null  object \n",
      " 8   PLATFORMTYPE     113937 non-null  object \n",
      " 9   CHANNELTYPE      113937 non-null  object \n",
      " 10  URL              113937 non-null  object \n",
      " 11  KEYWORDS         113937 non-null  object \n",
      " 12  TAXONOMY         32313 non-null   object \n",
      " 13  IS_HCP           113936 non-null  float64\n",
      "dtypes: float64(2), int64(2), object(10)\n",
      "memory usage: 12.2+ MB\n"
     ]
    }
   ],
   "source": [
    "df.info()"
   ]
  },
  {
   "cell_type": "code",
   "execution_count": 39,
   "metadata": {},
   "outputs": [],
   "source": [
    "#impute missing values of numeric columns with mean and categorical columns with mode\n",
    "\n",
    "cat_cols = df.select_dtypes(include='object').columns\n",
    "\n",
    "for col in cat_cols:\n",
    "    df[col] = df[col].fillna(df[col].mode()[0])\n",
    "\n",
    "num_cols = df.select_dtypes(include=['int64','float64']).columns\n",
    "\n",
    "for col in num_cols:\n",
    "    df[col] = df[col].fillna(df[col].mean())\n"
   ]
  },
  {
   "cell_type": "code",
   "execution_count": 40,
   "metadata": {},
   "outputs": [
    {
     "name": "stderr",
     "output_type": "stream",
     "text": [
      "C:\\Users\\KIIT\\AppData\\Local\\Temp\\ipykernel_28356\\1805060499.py:14: PerformanceWarning: DataFrame is highly fragmented.  This is usually the result of calling `frame.insert` many times, which has poor performance.  Consider joining all columns at once using pd.concat(axis=1) instead.  To get a de-fragmented frame, use `newframe = frame.copy()`\n",
      "  df[keyword] = df['KEYWORDS'].apply(lambda x: int(keyword in x))\n"
     ]
    }
   ],
   "source": [
    "#feature engineering on keyword column to extract keywords\n",
    "# tokenize the keywords column where words are separated by '|'\n",
    "df['KEYWORDS'] = df['KEYWORDS'].str.split('|')\n",
    "\n",
    "# Create a set to store all keywords\n",
    "all_keywords = set()\n",
    "\n",
    "# Extract unique keywords and add them to the set\n",
    "for keywords in df['KEYWORDS']:\n",
    "    all_keywords.update(keywords)\n",
    "\n",
    "# Create a column for each keyword and assign values\n",
    "for keyword in all_keywords:\n",
    "    df[keyword] = df['KEYWORDS'].apply(lambda x: int(keyword in x))\n",
    "\n",
    "# Drop the 'KEYWORDS' column\n",
    "df.drop(['KEYWORDS'], axis=1, inplace=True)"
   ]
  },
  {
   "cell_type": "code",
   "execution_count": 41,
   "metadata": {},
   "outputs": [],
   "source": [
    "df.drop(['USERZIPCODE'], axis=1, inplace=True)\n",
    "df.drop('CHANNELTYPE', axis=1, inplace=True)"
   ]
  },
  {
   "cell_type": "code",
   "execution_count": 42,
   "metadata": {},
   "outputs": [
    {
     "data": {
      "text/plain": [
       "(113937, 1625)"
      ]
     },
     "execution_count": 42,
     "metadata": {},
     "output_type": "execute_result"
    }
   ],
   "source": [
    "# drop rows where is_hcp and TAXONOMY is null\n",
    "df.dropna(subset=['IS_HCP', 'TAXONOMY'], inplace=True)\n",
    "df.shape"
   ]
  },
  {
   "cell_type": "code",
   "execution_count": 43,
   "metadata": {},
   "outputs": [
    {
     "data": {
      "text/plain": [
       "PK                 0\n",
       "DEVICETYPE         0\n",
       "PLATFORM_ID        0\n",
       "BIDREQUESTIP       0\n",
       "USERPLATFORMUID    0\n",
       "                  ..\n",
       "Polyarthritis      0\n",
       "ear diseases       0\n",
       "dirofilariasis     0\n",
       "Orthodontics       0\n",
       "seasonal           0\n",
       "Length: 1625, dtype: int64"
      ]
     },
     "execution_count": 43,
     "metadata": {},
     "output_type": "execute_result"
    }
   ],
   "source": [
    "# check for null values\n",
    "df.isnull().sum()"
   ]
  },
  {
   "cell_type": "code",
   "execution_count": 44,
   "metadata": {},
   "outputs": [],
   "source": [
    "#change the classes 1.0 to 1 and 0.0 to 0\n",
    "df['IS_HCP'] = df['IS_HCP'].astype(int)\n"
   ]
  },
  {
   "cell_type": "code",
   "execution_count": 45,
   "metadata": {},
   "outputs": [],
   "source": [
    "#encode categorical columns using label encoding\n",
    "from sklearn.preprocessing import LabelEncoder\n",
    "\n",
    "le = LabelEncoder()\n",
    "\n",
    "cat_cols = df.select_dtypes(include='object').columns\n",
    "\n",
    "for col in cat_cols:\n",
    "    df[col] = le.fit_transform(df[col])\n",
    "\n"
   ]
  },
  {
   "cell_type": "code",
   "execution_count": 46,
   "metadata": {},
   "outputs": [],
   "source": [
    "#save the df as csv\n",
    "df.to_csv('df_train.csv', index=False)"
   ]
  },
  {
   "cell_type": "code",
   "execution_count": 48,
   "metadata": {},
   "outputs": [
    {
     "name": "stdout",
     "output_type": "stream",
     "text": [
      "0    79757\n",
      "1    34180\n",
      "Name: IS_HCP, dtype: int64\n"
     ]
    }
   ],
   "source": [
    "print(df['IS_HCP'].value_counts())"
   ]
  },
  {
   "cell_type": "code",
   "execution_count": null,
   "metadata": {},
   "outputs": [],
   "source": []
  }
 ],
 "metadata": {
  "kernelspec": {
   "display_name": "base",
   "language": "python",
   "name": "python3"
  },
  "language_info": {
   "codemirror_mode": {
    "name": "ipython",
    "version": 3
   },
   "file_extension": ".py",
   "mimetype": "text/x-python",
   "name": "python",
   "nbconvert_exporter": "python",
   "pygments_lexer": "ipython3",
   "version": "3.9.13"
  },
  "orig_nbformat": 4
 },
 "nbformat": 4,
 "nbformat_minor": 2
}
